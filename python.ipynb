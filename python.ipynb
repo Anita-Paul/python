{
    "cells": [
        {
            "cell_type": "markdown",
            "metadata": {
                "collapsed": true
            },
            "source": "# My Jupyter Notebook on IBM Watson Studio"
        },
        {
            "cell_type": "markdown",
            "metadata": {},
            "source": "Name: **Anita Paul**\noccupation: Data analyst"
        },
        {
            "cell_type": "markdown",
            "metadata": {},
            "source": "I am interested in data science because it gives meaning to raw data and converts it into meaningful insights that can be used to grow the business and recognize market trends."
        },
        {
            "cell_type": "markdown",
            "metadata": {},
            "source": "### addition of 2 number in python"
        },
        {
            "cell_type": "code",
            "execution_count": 2,
            "metadata": {},
            "outputs": [
                {
                    "name": "stdout",
                    "output_type": "stream",
                    "text": "2\n"
                }
            ],
            "source": "print (1+1)"
        },
        {
            "cell_type": "markdown",
            "metadata": {},
            "source": "> I love python\n- list1\n- list2\n- list3\n[link](https://www.coursera.org/)\n \n \n|s.no | name | course |\n|:---:|:---:|:---:|\n|001|Anita|  data science |\n|002|Ani| data analyst|\n\n\n~~python is easy~~"
        }
    ],
    "metadata": {
        "kernelspec": {
            "display_name": "Python 3.9",
            "language": "python",
            "name": "python3"
        },
        "language_info": {
            "codemirror_mode": {
                "name": "ipython",
                "version": 3
            },
            "file_extension": ".py",
            "mimetype": "text/x-python",
            "name": "python",
            "nbconvert_exporter": "python",
            "pygments_lexer": "ipython3",
            "version": "3.9.7"
        }
    },
    "nbformat": 4,
    "nbformat_minor": 1
}